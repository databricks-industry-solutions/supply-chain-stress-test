{
 "cells": [
  {
   "cell_type": "markdown",
   "metadata": {
    "application/vnd.databricks.v1+cell": {
     "cellMetadata": {
      "byteLimit": 2048000,
      "rowLimit": 10000
     },
     "inputWidgets": {},
     "nuid": "0f621eb5-3d76-428d-97c5-8f1a4d47b9a6",
     "showTitle": false,
     "tableResultSettingsMap": {},
     "title": ""
    }
   },
   "source": [
    "This solution accelerator notebook is available at [Databricks Industry Solutions](https://github.com/databricks-industry-solutions/supply-chain-stress-test)."
   ]
  },
  {
   "cell_type": "markdown",
   "metadata": {
    "application/vnd.databricks.v1+cell": {
     "cellMetadata": {
      "byteLimit": 2048000,
      "rowLimit": 10000
     },
     "inputWidgets": {},
     "nuid": "4276c642-ba49-4921-95da-dfb23bcf7cf2",
     "showTitle": false,
     "tableResultSettingsMap": {},
     "title": ""
    }
   },
   "source": [
    "# Stress-Test Small Networks and Analyze the Results\n",
    "\n",
    "This notebook demonstrates how to run stress tests on a small supply chain network and analyze the results. We will introduce two key concepts—time-to-recover (TTR) and time-to-survive (TTS)—which are essential for understanding the risk exposure of disruption scenarios."
   ]
  },
  {
   "cell_type": "markdown",
   "metadata": {
    "application/vnd.databricks.v1+cell": {
     "cellMetadata": {
      "byteLimit": 2048000,
      "rowLimit": 10000
     },
     "inputWidgets": {},
     "nuid": "649eef1f-e7da-4111-b4fd-95ef1a6db3eb",
     "showTitle": false,
     "tableResultSettingsMap": {},
     "title": ""
    }
   },
   "source": [
    "## Cluster Configuration\n",
    "This notebook was tested on the following Databricks cluster configuration:\n",
    "- **Databricks Runtime Version:** 16.4 LTS ML (includes Apache Spark 3.5.2, Scala 2.12)\n",
    "- **Single Node** \n",
    "    - Azure: Standard_DS4_v2 (28 GB Memory, 8 Cores)\n",
    "    - AWS: m5d.2xlarge (32 GB Memory, 8 Cores)\n",
    "- **Photon Acceleration:** Disabled (Photon boosts Apache Spark workloads; not all ML workloads will see an improvement)"
   ]
  },
  {
   "cell_type": "code",
   "execution_count": 0,
   "metadata": {
    "application/vnd.databricks.v1+cell": {
     "cellMetadata": {
      "byteLimit": 2048000,
      "rowLimit": 10000
     },
     "inputWidgets": {},
     "nuid": "028faef8-4470-47db-8b11-9ad21e48c7e9",
     "showTitle": true,
     "tableResultSettingsMap": {},
     "title": "Install requirements"
    }
   },
   "outputs": [
    {
     "output_type": "stream",
     "name": "stdout",
     "output_type": "stream",
     "text": [
      "\u001B[43mNote: you may need to restart the kernel using %restart_python or dbutils.library.restartPython() to use updated packages.\u001B[0m\n"
     ]
    }
   ],
   "source": [
    "%pip install -r ./requirements.txt --quiet\n",
    "dbutils.library.restartPython()"
   ]
  },
  {
   "cell_type": "code",
   "execution_count": 0,
   "metadata": {
    "application/vnd.databricks.v1+cell": {
     "cellMetadata": {
      "byteLimit": 2048000,
      "rowLimit": 10000
     },
     "inputWidgets": {},
     "nuid": "21d7843b-a847-40e6-81b2-51ccc417d99e",
     "showTitle": true,
     "tableResultSettingsMap": {},
     "title": "Import modules"
    }
   },
   "outputs": [],
   "source": [
    "import os\n",
    "import mlflow\n",
    "import random\n",
    "import numpy as np\n",
    "import pandas as pd\n",
    "import pyomo.environ as pyo\n",
    "import scripts.utils as utils"
   ]
  },
  {
   "cell_type": "markdown",
   "metadata": {
    "application/vnd.databricks.v1+cell": {
     "cellMetadata": {
      "byteLimit": 2048000,
      "rowLimit": 10000
     },
     "inputWidgets": {},
     "nuid": "3f850dd8-21e2-4f64-a517-c8481ffd0b1f",
     "showTitle": false,
     "tableResultSettingsMap": {},
     "title": ""
    }
   },
   "source": [
    "## Generate Dataset\n",
    "\n",
    "As in the previous notebook, we will generate a supply chain network along with the corresponding operational data."
   ]
  },
  {
   "cell_type": "code",
   "execution_count": 0,
   "metadata": {
    "application/vnd.databricks.v1+cell": {
     "cellMetadata": {
      "byteLimit": 2048000,
      "rowLimit": 10000
     },
     "inputWidgets": {},
     "nuid": "700b3a7b-29df-4630-b57d-66d2a3193290",
     "showTitle": false,
     "tableResultSettingsMap": {},
     "title": ""
    }
   },
   "outputs": [],
   "source": [
    "# Generate a synthetic 3-tier supply chain network dataset for optimization\n",
    "# N1: number of product nodes\n",
    "# N2: number of direct supplier nodes\n",
    "# N3: number of sub-supplier nodes\n",
    "dataset = utils.generate_data(N1=5, N2=10, N3=20) # DO NOT CHANGE"
   ]
  },
  {
   "cell_type": "markdown",
   "metadata": {
    "application/vnd.databricks.v1+cell": {
     "cellMetadata": {
      "byteLimit": 2048000,
      "rowLimit": 10000
     },
     "inputWidgets": {},
     "nuid": "94df56c2-573c-4645-bc6f-803ae26eecfa",
     "showTitle": false,
     "tableResultSettingsMap": {},
     "title": ""
    }
   },
   "source": [
    "## Multi-Tier Time-to-Recover (TTR) Model\n",
    "\n",
    "TTR (Time-to-Recover) is a key input to the optimization problem. It represents the time required for a node—or a group of nodes—to return to normal operations after a disruption. TTR is typically obtained from suppliers or estimated through internal assessments.\n",
    "\n",
    "In stress testing, we simulate disruptive scenarios in which one or more nodes fail. A failure can be either partial or complete and lasts for the duration of the TTR. In this solution accelerator, we simulate complete failures for each node. This is modeled by temporarily removing the node and re-optimizing the network based on the new topology. The objective function can be defined flexibly based on your business goals. In this exercise, we define it as the total lost profit across all products, which we aim to minimize. For the detailed formulation and model specification, see the function `utils.build_and_solve_multi_tier_ttr` in the script `scripts/utils.py` or refer to the notebook `04_appendix`.\n",
    "\n",
    "After finding the optimized configuration—through material and inventory reallocation and production adjustments—we obtain the cumulative lost profit incurred during the TTR period. This quantifies the impact of each disruption scenario. We repeat this process for all nodes to compare and assess the relative risk exposure associated with each one. \n"
   ]
  },
  {
   "cell_type": "code",
   "execution_count": 0,
   "metadata": {
    "application/vnd.databricks.v1+cell": {
     "cellMetadata": {
      "byteLimit": 2048000,
      "rowLimit": 10000
     },
     "inputWidgets": {},
     "nuid": "19701fb0-ee23-4ee5-aa91-99781df76a49",
     "showTitle": false,
     "tableResultSettingsMap": {},
     "title": ""
    }
   },
   "outputs": [],
   "source": [
    "# Assign a random TTR to each disrupted node; in practice, TTR is a predefined input variable\n",
    "random.seed(777) # DO NOT CHANGE!\n",
    "disrupted_nodes = {node: random.randint(1, 10) for node in dataset['tier2'] + dataset['tier3']}"
   ]
  },
  {
   "cell_type": "markdown",
   "metadata": {
    "application/vnd.databricks.v1+cell": {
     "cellMetadata": {
      "byteLimit": 2048000,
      "rowLimit": 10000
     },
     "inputWidgets": {},
     "nuid": "c049adbe-75cf-40e5-a8ad-f2520ad80008",
     "showTitle": false,
     "tableResultSettingsMap": {},
     "title": ""
    }
   },
   "source": [
    "We iterate through all nodes in Tier 2 and Tier 3 and simulate their respective disruption events."
   ]
  },
  {
   "cell_type": "code",
   "execution_count": 0,
   "metadata": {
    "application/vnd.databricks.v1+cell": {
     "cellMetadata": {
      "byteLimit": 2048000,
      "rowLimit": 10000
     },
     "inputWidgets": {},
     "nuid": "5cdd7e28-0ae2-4656-8d10-1f54d6e4ec7a",
     "showTitle": false,
     "tableResultSettingsMap": {},
     "title": ""
    }
   },
   "outputs": [
    {
     "output_type": "display_data",
     "data": {
      "text/html": [
       "<style scoped>\n",
       "  .table-result-container {\n",
       "    max-height: 300px;\n",
       "    overflow: auto;\n",
       "  }\n",
       "  table, th, td {\n",
       "    border: 1px solid black;\n",
       "    border-collapse: collapse;\n",
       "  }\n",
       "  th, td {\n",
       "    padding: 5px;\n",
       "  }\n",
       "  th {\n",
       "    text-align: left;\n",
       "  }\n",
       "</style><div class='table-result-container'><table class='table-result'><thead style='background-color: white'><tr><th>disrupted</th><th>ttr</th><th>termination_condition</th><th>lost_profit</th></tr></thead><tbody><tr><td>List(T2_1)</td><td>4</td><td>optimal</td><td>0.0</td></tr><tr><td>List(T2_2)</td><td>8</td><td>optimal</td><td>509.0</td></tr><tr><td>List(T2_3)</td><td>8</td><td>optimal</td><td>366.38000000000005</td></tr><tr><td>List(T2_4)</td><td>6</td><td>optimal</td><td>0.0</td></tr><tr><td>List(T2_5)</td><td>10</td><td>optimal</td><td>663.34</td></tr><tr><td>List(T2_6)</td><td>5</td><td>optimal</td><td>68.85</td></tr><tr><td>List(T2_7)</td><td>6</td><td>optimal</td><td>310.5</td></tr><tr><td>List(T2_8)</td><td>9</td><td>optimal</td><td>1601.38</td></tr><tr><td>List(T2_9)</td><td>1</td><td>optimal</td><td>0.0</td></tr><tr><td>List(T2_10)</td><td>8</td><td>optimal</td><td>1808.0700000000002</td></tr><tr><td>List(T3_1)</td><td>10</td><td>optimal</td><td>156.6</td></tr><tr><td>List(T3_2)</td><td>9</td><td>optimal</td><td>203.75</td></tr><tr><td>List(T3_3)</td><td>7</td><td>optimal</td><td>0.0</td></tr><tr><td>List(T3_4)</td><td>10</td><td>optimal</td><td>311.50000000000006</td></tr><tr><td>List(T3_5)</td><td>5</td><td>optimal</td><td>0.0</td></tr><tr><td>List(T3_6)</td><td>2</td><td>optimal</td><td>0.0</td></tr><tr><td>List(T3_7)</td><td>2</td><td>optimal</td><td>0.0</td></tr><tr><td>List(T3_8)</td><td>2</td><td>optimal</td><td>0.0</td></tr><tr><td>List(T3_9)</td><td>6</td><td>optimal</td><td>0.0</td></tr><tr><td>List(T3_10)</td><td>2</td><td>optimal</td><td>0.0</td></tr><tr><td>List(T3_11)</td><td>1</td><td>optimal</td><td>0.0</td></tr><tr><td>List(T3_12)</td><td>10</td><td>optimal</td><td>0.0</td></tr><tr><td>List(T3_13)</td><td>6</td><td>optimal</td><td>0.0</td></tr><tr><td>List(T3_14)</td><td>5</td><td>optimal</td><td>0.0</td></tr><tr><td>List(T3_15)</td><td>10</td><td>optimal</td><td>1339.2</td></tr><tr><td>List(T3_16)</td><td>5</td><td>optimal</td><td>0.0</td></tr><tr><td>List(T3_17)</td><td>2</td><td>optimal</td><td>0.0</td></tr><tr><td>List(T3_18)</td><td>4</td><td>optimal</td><td>0.0</td></tr><tr><td>List(T3_19)</td><td>5</td><td>optimal</td><td>0.0</td></tr><tr><td>List(T3_20)</td><td>9</td><td>optimal</td><td>0.0</td></tr></tbody></table></div>"
      ]
     },
     "metadata": {
      "application/vnd.databricks.v1+output": {
       "addedWidgets": {},
       "aggData": [],
       "aggError": "",
       "aggOverflow": false,
       "aggSchema": [],
       "aggSeriesLimitReached": false,
       "aggType": "",
       "arguments": {},
       "columnCustomDisplayInfos": {},
       "data": [
        [
         [
          "T2_1"
         ],
         4,
         "optimal",
         0.0
        ],
        [
         [
          "T2_2"
         ],
         8,
         "optimal",
         509.0
        ],
        [
         [
          "T2_3"
         ],
         8,
         "optimal",
         366.38000000000005
        ],
        [
         [
          "T2_4"
         ],
         6,
         "optimal",
         0.0
        ],
        [
         [
          "T2_5"
         ],
         10,
         "optimal",
         663.34
        ],
        [
         [
          "T2_6"
         ],
         5,
         "optimal",
         68.85
        ],
        [
         [
          "T2_7"
         ],
         6,
         "optimal",
         310.5
        ],
        [
         [
          "T2_8"
         ],
         9,
         "optimal",
         1601.38
        ],
        [
         [
          "T2_9"
         ],
         1,
         "optimal",
         0.0
        ],
        [
         [
          "T2_10"
         ],
         8,
         "optimal",
         1808.0700000000002
        ],
        [
         [
          "T3_1"
         ],
         10,
         "optimal",
         156.6
        ],
        [
         [
          "T3_2"
         ],
         9,
         "optimal",
         203.75
        ],
        [
         [
          "T3_3"
         ],
         7,
         "optimal",
         0.0
        ],
        [
         [
          "T3_4"
         ],
         10,
         "optimal",
         311.50000000000006
        ],
        [
         [
          "T3_5"
         ],
         5,
         "optimal",
         0.0
        ],
        [
         [
          "T3_6"
         ],
         2,
         "optimal",
         0.0
        ],
        [
         [
          "T3_7"
         ],
         2,
         "optimal",
         0.0
        ],
        [
         [
          "T3_8"
         ],
         2,
         "optimal",
         0.0
        ],
        [
         [
          "T3_9"
         ],
         6,
         "optimal",
         0.0
        ],
        [
         [
          "T3_10"
         ],
         2,
         "optimal",
         0.0
        ],
        [
         [
          "T3_11"
         ],
         1,
         "optimal",
         0.0
        ],
        [
         [
          "T3_12"
         ],
         10,
         "optimal",
         0.0
        ],
        [
         [
          "T3_13"
         ],
         6,
         "optimal",
         0.0
        ],
        [
         [
          "T3_14"
         ],
         5,
         "optimal",
         0.0
        ],
        [
         [
          "T3_15"
         ],
         10,
         "optimal",
         1339.2
        ],
        [
         [
          "T3_16"
         ],
         5,
         "optimal",
         0.0
        ],
        [
         [
          "T3_17"
         ],
         2,
         "optimal",
         0.0
        ],
        [
         [
          "T3_18"
         ],
         4,
         "optimal",
         0.0
        ],
        [
         [
          "T3_19"
         ],
         5,
         "optimal",
         0.0
        ],
        [
         [
          "T3_20"
         ],
         9,
         "optimal",
         0.0
        ]
       ],
       "datasetInfos": [],
       "dbfsResultPath": null,
       "isJsonSchema": true,
       "metadata": {},
       "overflow": false,
       "plotOptions": {
        "customPlotOptions": {},
        "displayType": "table",
        "pivotAggregation": null,
        "pivotColumns": null,
        "xColumns": null,
        "yColumns": null
       },
       "removedWidgets": [],
       "schema": [
        {
         "metadata": "{}",
         "name": "disrupted",
         "type": "{\"type\":\"array\",\"elementType\":\"string\",\"containsNull\":true}"
        },
        {
         "metadata": "{}",
         "name": "ttr",
         "type": "\"long\""
        },
        {
         "metadata": "{}",
         "name": "termination_condition",
         "type": "\"string\""
        },
        {
         "metadata": "{}",
         "name": "lost_profit",
         "type": "\"double\""
        }
       ],
       "type": "table"
      }
     },
     "output_type": "display_data"
    }
   ],
   "source": [
    "lost_profit = []\n",
    "for disrupted_node in disrupted_nodes:\n",
    "    disrupted = [disrupted_node]\n",
    "    df = utils.build_and_solve_multi_tier_ttr(dataset, disrupted, disrupted_nodes[disrupted_node])\n",
    "    lost_profit.append(df)\n",
    "\n",
    "lost_profit = pd.concat(lost_profit, ignore_index=True)\n",
    "display(lost_profit)"
   ]
  },
  {
   "cell_type": "markdown",
   "metadata": {
    "application/vnd.databricks.v1+cell": {
     "cellMetadata": {
      "byteLimit": 2048000,
      "rowLimit": 10000
     },
     "inputWidgets": {},
     "nuid": "e69e0a56-7174-425e-9701-b4941e618083",
     "showTitle": false,
     "tableResultSettingsMap": {},
     "title": ""
    }
   },
   "source": [
    "The result above indicates that not every failure leads to a finite lost profit. The magnitude of lost profit is influenced by several factors, including inventory levels, production capacity, supplier diversification, TTR, and more."
   ]
  },
  {
   "cell_type": "markdown",
   "metadata": {
    "application/vnd.databricks.v1+cell": {
     "cellMetadata": {
      "byteLimit": 2048000,
      "rowLimit": 10000
     },
     "inputWidgets": {},
     "nuid": "84489dc8-0a60-4cdd-9149-7bacf39a789e",
     "showTitle": false,
     "tableResultSettingsMap": {},
     "title": ""
    }
   },
   "source": [
    "### Highest Risk Nodes\n",
    "Let's examine the top 5 nodes with the highest lost profit. We'll visualize the network again to help interpret the results more intuitively."
   ]
  },
  {
   "cell_type": "code",
   "execution_count": 0,
   "metadata": {
    "application/vnd.databricks.v1+cell": {
     "cellMetadata": {
      "byteLimit": 2048000,
      "rowLimit": 10000
     },
     "inputWidgets": {},
     "nuid": "0410b8ff-d732-42e4-90e1-4cdf1a4a3fda",
     "showTitle": false,
     "tableResultSettingsMap": {},
     "title": ""
    }
   },
   "outputs": [
    {
     "output_type": "display_data",
     "data": {
      "image/png": "[encoded data removed]",
      "text/plain": [
       "<Figure size 1500x600 with 1 Axes>"
      ]
     },
     "metadata": {},
     "output_type": "display_data"
    },
    {
     "output_type": "display_data",
     "data": {
      "text/html": [
       "<style scoped>\n",
       "  .table-result-container {\n",
       "    max-height: 300px;\n",
       "    overflow: auto;\n",
       "  }\n",
       "  table, th, td {\n",
       "    border: 1px solid black;\n",
       "    border-collapse: collapse;\n",
       "  }\n",
       "  th, td {\n",
       "    padding: 5px;\n",
       "  }\n",
       "  th {\n",
       "    text-align: left;\n",
       "  }\n",
       "</style><div class='table-result-container'><table class='table-result'><thead style='background-color: white'><tr><th>disrupted</th><th>ttr</th><th>termination_condition</th><th>lost_profit</th></tr></thead><tbody><tr><td>List(T2_10)</td><td>8</td><td>optimal</td><td>1808.0700000000002</td></tr><tr><td>List(T2_8)</td><td>9</td><td>optimal</td><td>1601.38</td></tr><tr><td>List(T3_15)</td><td>10</td><td>optimal</td><td>1339.2</td></tr><tr><td>List(T2_5)</td><td>10</td><td>optimal</td><td>663.34</td></tr><tr><td>List(T2_2)</td><td>8</td><td>optimal</td><td>509.0</td></tr></tbody></table></div>"
      ]
     },
     "metadata": {
      "application/vnd.databricks.v1+output": {
       "addedWidgets": {},
       "aggData": [],
       "aggError": "",
       "aggOverflow": false,
       "aggSchema": [],
       "aggSeriesLimitReached": false,
       "aggType": "",
       "arguments": {},
       "columnCustomDisplayInfos": {},
       "data": [
        [
         [
          "T2_10"
         ],
         8,
         "optimal",
         1808.0700000000002
        ],
        [
         [
          "T2_8"
         ],
         9,
         "optimal",
         1601.38
        ],
        [
         [
          "T3_15"
         ],
         10,
         "optimal",
         1339.2
        ],
        [
         [
          "T2_5"
         ],
         10,
         "optimal",
         663.34
        ],
        [
         [
          "T2_2"
         ],
         8,
         "optimal",
         509.0
        ]
       ],
       "datasetInfos": [],
       "dbfsResultPath": null,
       "isJsonSchema": true,
       "metadata": {},
       "overflow": false,
       "plotOptions": {
        "customPlotOptions": {},
        "displayType": "table",
        "pivotAggregation": null,
        "pivotColumns": null,
        "xColumns": null,
        "yColumns": null
       },
       "removedWidgets": [],
       "schema": [
        {
         "metadata": "{}",
         "name": "disrupted",
         "type": "{\"type\":\"array\",\"elementType\":\"string\",\"containsNull\":true}"
        },
        {
         "metadata": "{}",
         "name": "ttr",
         "type": "\"long\""
        },
        {
         "metadata": "{}",
         "name": "termination_condition",
         "type": "\"string\""
        },
        {
         "metadata": "{}",
         "name": "lost_profit",
         "type": "\"double\""
        }
       ],
       "type": "table"
      }
     },
     "output_type": "display_data"
    }
   ],
   "source": [
    "# Visualizes the 3-tier network\n",
    "utils.visualize_network(dataset)\n",
    "\n",
    "highest_risk_nodes = lost_profit.sort_values(by=\"lost_profit\", ascending=False)[0:5]\n",
    "display(highest_risk_nodes)"
   ]
  },
  {
   "cell_type": "markdown",
   "metadata": {
    "application/vnd.databricks.v1+cell": {
     "cellMetadata": {
      "byteLimit": 2048000,
      "rowLimit": 10000
     },
     "inputWidgets": {},
     "nuid": "2dd7e215-1566-464b-824e-2fcbc9d9407b",
     "showTitle": false,
     "tableResultSettingsMap": {},
     "title": ""
    }
   },
   "source": [
    "Having `T2_10` as the node with the highest risk exposure is not surprising, as it is the sole supplier of a specific material type. If this node fails, the production of `T1_1`, `T1_3`, and `T1_5` will halt once existing inventory is depleted.\n",
    "\n",
    "`T2_8` is a more subtle case. At first glance, its high risk is not obvious. However, upon examining the nodes it supplies—`T1_1`, `T1_3`, and `T1_5`—we see that for `T1_1` and `T1_3`, `T2_8` is the only source of a specific material. This means its failure directly halts production at those nodes.\n",
    "\n",
    "For the same reason, `T3_15` is also a high-risk node, with disruption effects that propagate across multiple tiers. `T3_14` is in a similar situation; however, its TTR is 5—significantly shorter than `T3_15`'s TTR of 10. As a result, `T3_14` does not appear on the riskiest node list.\n",
    "\n",
    "Let's take a closer look at a specific failure scenario by inspecting the values of the decision variables identified by the linear solver. In the `utils.build_and_solve_multi_tier_ttr` function, you can set the parameter `return_model=True` to retrieve the model and access the decision variable values. Let's look into the `T2_8` failure.\n"
   ]
  },
  {
   "cell_type": "code",
   "execution_count": 0,
   "metadata": {
    "application/vnd.databricks.v1+cell": {
     "cellMetadata": {
      "byteLimit": 2048000,
      "rowLimit": 10000
     },
     "inputWidgets": {},
     "nuid": "7ba553af-635e-4fe9-b1f2-e6f3edefc695",
     "showTitle": false,
     "tableResultSettingsMap": {},
     "title": ""
    }
   },
   "outputs": [],
   "source": [
    "scenario = \"T2_8\"\n",
    "\n",
    "# Solve the multi-tier TTR model for the given scenario\n",
    "df = utils.build_and_solve_multi_tier_ttr(dataset, [scenario], disrupted_nodes[scenario], True)\n",
    "model = df[\"model\"].values[0]\n",
    "records = []\n",
    "for v in model.component_data_objects(ctype=pyo.Var, active=True):\n",
    "    idx  = v.index()\n",
    "    record  = {\n",
    "        \"var_name\"  : v.parent_component().name,\n",
    "        \"index\"     : idx,\n",
    "        \"value\"     : pyo.value(v),\n",
    "    }\n",
    "    records.append(record)"
   ]
  },
  {
   "cell_type": "code",
   "execution_count": 0,
   "metadata": {
    "application/vnd.databricks.v1+cell": {
     "cellMetadata": {
      "byteLimit": 2048000,
      "rowLimit": 10000
     },
     "inputWidgets": {},
     "nuid": "8f85f42b-dd68-4b1b-bddb-76162799065b",
     "showTitle": false,
     "tableResultSettingsMap": {},
     "title": ""
    }
   },
   "outputs": [
    {
     "output_type": "display_data",
     "data": {
      "text/html": [
       "<style scoped>\n",
       "  .table-result-container {\n",
       "    max-height: 300px;\n",
       "    overflow: auto;\n",
       "  }\n",
       "  table, th, td {\n",
       "    border: 1px solid black;\n",
       "    border-collapse: collapse;\n",
       "  }\n",
       "  th, td {\n",
       "    padding: 5px;\n",
       "  }\n",
       "  th {\n",
       "    text-align: left;\n",
       "  }\n",
       "</style><div class='table-result-container'><table class='table-result'><thead style='background-color: white'><tr><th>node</th><th>demand</th><th>production</th><th>stock</th><th>lost_demand</th></tr></thead><tbody><tr><td>T1_1</td><td>7209.0</td><td>1569.0</td><td>1630</td><td>4010.0</td></tr><tr><td>T1_2</td><td>7623.0</td><td>5025.0</td><td>2598</td><td>0.0</td></tr><tr><td>T1_3</td><td>7443.0</td><td>-0.0</td><td>2306</td><td>5137.0</td></tr><tr><td>T1_4</td><td>7389.0</td><td>4741.0</td><td>2648</td><td>0.0</td></tr><tr><td>T1_5</td><td>7029.0</td><td>4874.0</td><td>2155</td><td>0.0</td></tr><tr><td>T2_1</td><td>null</td><td>14463.0</td><td>2127</td><td>null</td></tr><tr><td>T2_10</td><td>null</td><td>16272.0</td><td>2465</td><td>null</td></tr><tr><td>T2_2</td><td>null</td><td>20834.0</td><td>1884</td><td>null</td></tr><tr><td>T2_3</td><td>null</td><td>14481.0</td><td>1693</td><td>null</td></tr><tr><td>T2_4</td><td>null</td><td>20385.0</td><td>1853</td><td>null</td></tr><tr><td>T2_5</td><td>null</td><td>15479.0</td><td>1753</td><td>null</td></tr><tr><td>T2_6</td><td>null</td><td>24210.0</td><td>2635</td><td>null</td></tr><tr><td>T2_7</td><td>null</td><td>22896.0</td><td>2692</td><td>null</td></tr><tr><td>T2_8</td><td>null</td><td>0.0</td><td>1569</td><td>null</td></tr><tr><td>T2_9</td><td>null</td><td>18369.0</td><td>1512</td><td>null</td></tr><tr><td>T3_1</td><td>null</td><td>26001.0</td><td>2701</td><td>null</td></tr><tr><td>T3_10</td><td>null</td><td>22509.0</td><td>2518</td><td>null</td></tr><tr><td>T3_11</td><td>null</td><td>20097.0</td><td>2289</td><td>null</td></tr><tr><td>T3_12</td><td>null</td><td>23013.0</td><td>1755</td><td>null</td></tr><tr><td>T3_13</td><td>null</td><td>25272.0</td><td>2838</td><td>null</td></tr><tr><td>T3_14</td><td>null</td><td>22311.0</td><td>2857</td><td>null</td></tr><tr><td>T3_15</td><td>null</td><td>16416.0</td><td>2519</td><td>null</td></tr><tr><td>T3_16</td><td>null</td><td>16038.0</td><td>2331</td><td>null</td></tr><tr><td>T3_17</td><td>null</td><td>19476.0</td><td>2364</td><td>null</td></tr><tr><td>T3_18</td><td>null</td><td>14985.0</td><td>2317</td><td>null</td></tr><tr><td>T3_19</td><td>null</td><td>18720.0</td><td>2411</td><td>null</td></tr><tr><td>T3_2</td><td>null</td><td>18792.0</td><td>2042</td><td>null</td></tr><tr><td>T3_20</td><td>null</td><td>18414.0</td><td>2202</td><td>null</td></tr><tr><td>T3_3</td><td>null</td><td>26469.0</td><td>2825</td><td>null</td></tr><tr><td>T3_4</td><td>null</td><td>25686.0</td><td>2046</td><td>null</td></tr><tr><td>T3_5</td><td>null</td><td>22527.0</td><td>1521</td><td>null</td></tr><tr><td>T3_6</td><td>null</td><td>26118.0</td><td>1845</td><td>null</td></tr><tr><td>T3_7</td><td>null</td><td>20790.0</td><td>2930</td><td>null</td></tr><tr><td>T3_8</td><td>null</td><td>13734.0</td><td>1745</td><td>null</td></tr><tr><td>T3_9</td><td>null</td><td>18675.0</td><td>2815</td><td>null</td></tr></tbody></table></div>"
      ]
     },
     "metadata": {
      "application/vnd.databricks.v1+output": {
       "addedWidgets": {},
       "aggData": [],
       "aggError": "",
       "aggOverflow": false,
       "aggSchema": [],
       "aggSeriesLimitReached": false,
       "aggType": "",
       "arguments": {},
       "columnCustomDisplayInfos": {},
       "data": [
        [
         "T1_1",
         7209.0,
         1569.0,
         1630,
         4010.0
        ],
        [
         "T1_2",
         7623.0,
         5025.0,
         2598,
         0.0
        ],
        [
         "T1_3",
         7443.0,
         -0.0,
         2306,
         5137.0
        ],
        [
         "T1_4",
         7389.0,
         4741.0,
         2648,
         0.0
        ],
        [
         "T1_5",
         7029.0,
         4874.0,
         2155,
         0.0
        ],
        [
         "T2_1",
         null,
         14463.0,
         2127,
         null
        ],
        [
         "T2_10",
         null,
         16272.0,
         2465,
         null
        ],
        [
         "T2_2",
         null,
         20834.0,
         1884,
         null
        ],
        [
         "T2_3",
         null,
         14481.0,
         1693,
         null
        ],
        [
         "T2_4",
         null,
         20385.0,
         1853,
         null
        ],
        [
         "T2_5",
         null,
         15479.0,
         1753,
         null
        ],
        [
         "T2_6",
         null,
         24210.0,
         2635,
         null
        ],
        [
         "T2_7",
         null,
         22896.0,
         2692,
         null
        ],
        [
         "T2_8",
         null,
         0.0,
         1569,
         null
        ],
        [
         "T2_9",
         null,
         18369.0,
         1512,
         null
        ],
        [
         "T3_1",
         null,
         26001.0,
         2701,
         null
        ],
        [
         "T3_10",
         null,
         22509.0,
         2518,
         null
        ],
        [
         "T3_11",
         null,
         20097.0,
         2289,
         null
        ],
        [
         "T3_12",
         null,
         23013.0,
         1755,
         null
        ],
        [
         "T3_13",
         null,
         25272.0,
         2838,
         null
        ],
        [
         "T3_14",
         null,
         22311.0,
         2857,
         null
        ],
        [
         "T3_15",
         null,
         16416.0,
         2519,
         null
        ],
        [
         "T3_16",
         null,
         16038.0,
         2331,
         null
        ],
        [
         "T3_17",
         null,
         19476.0,
         2364,
         null
        ],
        [
         "T3_18",
         null,
         14985.0,
         2317,
         null
        ],
        [
         "T3_19",
         null,
         18720.0,
         2411,
         null
        ],
        [
         "T3_2",
         null,
         18792.0,
         2042,
         null
        ],
        [
         "T3_20",
         null,
         18414.0,
         2202,
         null
        ],
        [
         "T3_3",
         null,
         26469.0,
         2825,
         null
        ],
        [
         "T3_4",
         null,
         25686.0,
         2046,
         null
        ],
        [
         "T3_5",
         null,
         22527.0,
         1521,
         null
        ],
        [
         "T3_6",
         null,
         26118.0,
         1845,
         null
        ],
        [
         "T3_7",
         null,
         20790.0,
         2930,
         null
        ],
        [
         "T3_8",
         null,
         13734.0,
         1745,
         null
        ],
        [
         "T3_9",
         null,
         18675.0,
         2815,
         null
        ]
       ],
       "datasetInfos": [],
       "dbfsResultPath": null,
       "isJsonSchema": true,
       "metadata": {},
       "overflow": false,
       "plotOptions": {
        "customPlotOptions": {},
        "displayType": "table",
        "pivotAggregation": null,
        "pivotColumns": null,
        "xColumns": null,
        "yColumns": null
       },
       "removedWidgets": [],
       "schema": [
        {
         "metadata": "{}",
         "name": "node",
         "type": "\"string\""
        },
        {
         "metadata": "{}",
         "name": "demand",
         "type": "\"double\""
        },
        {
         "metadata": "{}",
         "name": "production",
         "type": "\"double\""
        },
        {
         "metadata": "{}",
         "name": "stock",
         "type": "\"long\""
        },
        {
         "metadata": "{}",
         "name": "lost_demand",
         "type": "\"double\""
        }
       ],
       "type": "table"
      }
     },
     "output_type": "display_data"
    }
   ],
   "source": [
    "demand = pd.DataFrame.from_dict(dataset[\"d\"], orient='index').reset_index()\n",
    "demand = demand.rename(columns={\"index\": \"node\", 0: \"demand\"})\n",
    "demand[\"demand\"] *= disrupted_nodes[scenario]\n",
    "\n",
    "prod = pd.DataFrame([record for record in records if record[\"var_name\"] == \"u\"])\n",
    "prod = prod.rename(columns={\"index\": \"node\", \"value\": \"production\"})\n",
    "prod = prod.drop(\"var_name\", axis=1).sort_values(by=\"node\").reset_index(drop=True)\n",
    "\n",
    "stock = pd.DataFrame.from_dict(dataset[\"s\"], orient='index').reset_index()\n",
    "stock = stock.rename(columns={\"index\": \"node\", 0: \"stock\"})\n",
    "\n",
    "lost = pd.DataFrame([record for record in records if record[\"var_name\"] == \"l\"])\n",
    "lost = lost.drop(\"var_name\", axis=1).rename(columns={\"index\": \"node\", \"value\": \"lost_demand\"})\n",
    "\n",
    "merged = demand.merge(prod, on=\"node\", how=\"right\")\n",
    "merged = merged.merge(stock, on=\"node\")\n",
    "merged = merged.merge(lost, on=\"node\", how=\"left\")\n",
    "\n",
    "display(merged)"
   ]
  },
  {
   "cell_type": "markdown",
   "metadata": {
    "application/vnd.databricks.v1+cell": {
     "cellMetadata": {
      "byteLimit": 2048000,
      "rowLimit": 10000
     },
     "inputWidgets": {},
     "nuid": "f25b9a66-2405-449c-9008-eec163ee05bd",
     "showTitle": false,
     "tableResultSettingsMap": {},
     "title": ""
    }
   },
   "source": [
    "The first thing to notice in the output above is that the production volume of `T2_8` is zero due to the simulated failure (`production`). Next, we observe losses at `T1_1` and `T1_3` (`lost_demand`). In the case of `T1_3`, there is no production, so once the existing stock is depleted, the remaining demand directly becomes lost demand. For `T1_1`, it appears that all of `T2_8`'s inventory (1,569 units) was routed to this node, allowing some production to continue. The solver prioritized `T1_1` because it has a higher profit margin than `T1_3` (as shown in the `01_operational_data` notebook)."
   ]
  },
  {
   "cell_type": "markdown",
   "metadata": {
    "application/vnd.databricks.v1+cell": {
     "cellMetadata": {
      "byteLimit": 2048000,
      "rowLimit": 10000
     },
     "inputWidgets": {},
     "nuid": "13801c64-7de8-4ab8-8534-084eb87731a6",
     "showTitle": false,
     "tableResultSettingsMap": {},
     "title": ""
    }
   },
   "source": [
    "## Multi-Tier Time-to-Survive (TTS) Model\n",
    "\n",
    "Time-to-Survive (TTS) provides a complementary perspective on the risk associated with node failures. Unlike TTR, TTS is not an input but an output—a decision variable. When a disruption affects a node or group of nodes, TTS represents the amount of time the reconfigured network can continue to meet demand without incurring any loss. The risk becomes more critical when TTR exceeds TTS by a significant margin.\n",
    "\n",
    "The TTS model closely resembles the TTR model, with minor modifications to the objective function and constraints. For more details, see the function `utils.build_and_solve_multi_tier_tts` in the script `scripts/utils.py` or refer to the `04_appendix` notebook.\n",
    "\n",
    "Let's again iterate through all nodes in Tier 2 and Tier 3."
   ]
  },
  {
   "cell_type": "code",
   "execution_count": 0,
   "metadata": {
    "application/vnd.databricks.v1+cell": {
     "cellMetadata": {
      "byteLimit": 2048000,
      "rowLimit": 10000
     },
     "inputWidgets": {},
     "nuid": "99e03d2e-737c-4665-b961-ca450e323ae3",
     "showTitle": false,
     "tableResultSettingsMap": {},
     "title": ""
    }
   },
   "outputs": [],
   "source": [
    "tts = []\n",
    "for disrupted_node in disrupted_nodes:\n",
    "    disrupted = [disrupted_node]\n",
    "    df = utils.build_and_solve_multi_tier_tts(dataset, disrupted)\n",
    "    df[\"ttr\"] = disrupted_nodes[disrupted_node]\n",
    "    tts.append(df)\n",
    "\n",
    "# Concatenate all dataframes in the list into a single dataframe\n",
    "tts = pd.concat(tts, ignore_index=True)"
   ]
  },
  {
   "cell_type": "markdown",
   "metadata": {
    "application/vnd.databricks.v1+cell": {
     "cellMetadata": {
      "byteLimit": 2048000,
      "rowLimit": 10000
     },
     "inputWidgets": {},
     "nuid": "3ac7707d-aadb-4476-9825-b7acd7a4f85c",
     "showTitle": false,
     "tableResultSettingsMap": {},
     "title": ""
    }
   },
   "source": [
    "Now, let's show where TTS is shorter than TTR."
   ]
  },
  {
   "cell_type": "code",
   "execution_count": 0,
   "metadata": {
    "application/vnd.databricks.v1+cell": {
     "cellMetadata": {
      "byteLimit": 2048000,
      "rowLimit": 10000
     },
     "inputWidgets": {},
     "nuid": "334473ad-579d-4da7-9f01-21eb643a4c14",
     "showTitle": false,
     "tableResultSettingsMap": {},
     "title": ""
    }
   },
   "outputs": [
    {
     "output_type": "display_data",
     "data": {
      "text/html": [
       "<style scoped>\n",
       "  .table-result-container {\n",
       "    max-height: 300px;\n",
       "    overflow: auto;\n",
       "  }\n",
       "  table, th, td {\n",
       "    border: 1px solid black;\n",
       "    border-collapse: collapse;\n",
       "  }\n",
       "  th, td {\n",
       "    padding: 5px;\n",
       "  }\n",
       "  th {\n",
       "    text-align: left;\n",
       "  }\n",
       "</style><div class='table-result-container'><table class='table-result'><thead style='background-color: white'><tr><th>disrupted</th><th>termination_condition</th><th>tts</th><th>ttr</th></tr></thead><tbody><tr><td>List(T2_2)</td><td>optimal</td><td>5.519846350832267</td><td>8</td></tr><tr><td>List(T2_3)</td><td>optimal</td><td>4.835550181378476</td><td>8</td></tr><tr><td>List(T2_5)</td><td>optimal</td><td>5.003627569528416</td><td>10</td></tr><tr><td>List(T2_6)</td><td>optimal</td><td>4.724304715840387</td><td>5</td></tr><tr><td>List(T2_7)</td><td>optimal</td><td>4.758830694275274</td><td>6</td></tr><tr><td>List(T2_8)</td><td>optimal</td><td>3.380894800483676</td><td>9</td></tr><tr><td>List(T2_10)</td><td>optimal</td><td>3.551390568319226</td><td>8</td></tr><tr><td>List(T3_1)</td><td>optimal</td><td>8.76696542893726</td><td>10</td></tr><tr><td>List(T3_2)</td><td>optimal</td><td>8.007083825265644</td><td>9</td></tr><tr><td>List(T3_4)</td><td>optimal</td><td>7.309552599758162</td><td>10</td></tr><tr><td>List(T3_15)</td><td>optimal</td><td>4.928657799274486</td><td>10</td></tr></tbody></table></div>"
      ]
     },
     "metadata": {
      "application/vnd.databricks.v1+output": {
       "addedWidgets": {},
       "aggData": [],
       "aggError": "",
       "aggOverflow": false,
       "aggSchema": [],
       "aggSeriesLimitReached": false,
       "aggType": "",
       "arguments": {},
       "columnCustomDisplayInfos": {},
       "data": [
        [
         [
          "T2_2"
         ],
         "optimal",
         5.519846350832267,
         8
        ],
        [
         [
          "T2_3"
         ],
         "optimal",
         4.835550181378476,
         8
        ],
        [
         [
          "T2_5"
         ],
         "optimal",
         5.003627569528416,
         10
        ],
        [
         [
          "T2_6"
         ],
         "optimal",
         4.724304715840387,
         5
        ],
        [
         [
          "T2_7"
         ],
         "optimal",
         4.758830694275274,
         6
        ],
        [
         [
          "T2_8"
         ],
         "optimal",
         3.380894800483676,
         9
        ],
        [
         [
          "T2_10"
         ],
         "optimal",
         3.551390568319226,
         8
        ],
        [
         [
          "T3_1"
         ],
         "optimal",
         8.76696542893726,
         10
        ],
        [
         [
          "T3_2"
         ],
         "optimal",
         8.007083825265644,
         9
        ],
        [
         [
          "T3_4"
         ],
         "optimal",
         7.309552599758162,
         10
        ],
        [
         [
          "T3_15"
         ],
         "optimal",
         4.928657799274486,
         10
        ]
       ],
       "datasetInfos": [],
       "dbfsResultPath": null,
       "isJsonSchema": true,
       "metadata": {},
       "overflow": false,
       "plotOptions": {
        "customPlotOptions": {},
        "displayType": "table",
        "pivotAggregation": null,
        "pivotColumns": null,
        "xColumns": null,
        "yColumns": null
       },
       "removedWidgets": [],
       "schema": [
        {
         "metadata": "{}",
         "name": "disrupted",
         "type": "{\"type\":\"array\",\"elementType\":\"string\",\"containsNull\":true}"
        },
        {
         "metadata": "{}",
         "name": "termination_condition",
         "type": "\"string\""
        },
        {
         "metadata": "{}",
         "name": "tts",
         "type": "\"double\""
        },
        {
         "metadata": "{}",
         "name": "ttr",
         "type": "\"long\""
        }
       ],
       "type": "table"
      }
     },
     "output_type": "display_data"
    }
   ],
   "source": [
    "# Show where tts is shorter than ttr\n",
    "display(tts[tts[\"tts\"] < tts[\"ttr\"]])"
   ]
  },
  {
   "cell_type": "markdown",
   "metadata": {
    "application/vnd.databricks.v1+cell": {
     "cellMetadata": {
      "byteLimit": 2048000,
      "rowLimit": 10000
     },
     "inputWidgets": {},
     "nuid": "5378407f-f414-4fb8-8f53-2cd913605414",
     "showTitle": false,
     "tableResultSettingsMap": {},
     "title": ""
    }
   },
   "source": [
    "The result above highlights all (sub)supplier sites where the time-to-recover (TTR) exceeds the time-to-survive (TTS). To enhance network resiliency, these nodes can be reassessed. Potential actions include reducing TTR through supplier renegotiations, increasing TTS by building inventory buffers, or diversifying the sourcing strategy.\n"
   ]
  },
  {
   "cell_type": "markdown",
   "metadata": {
    "application/vnd.databricks.v1+cell": {
     "cellMetadata": {
      "byteLimit": 2048000,
      "rowLimit": 10000
     },
     "inputWidgets": {},
     "nuid": "824af72c-f5ea-4c25-a8ad-db15aff1a036",
     "showTitle": false,
     "tableResultSettingsMap": {},
     "title": ""
    }
   },
   "source": [
    "## Wrap Up\n",
    "\n",
    "In this notebook, we demonstrated how to run stress tests on a small supply chain network and analyze the results. We introduced two key concepts—time-to-recover (TTR) and time-to-survive (TTS)—and applied them in our analysis.\n",
    "\n",
    "In the next notebook, `03_stress_testing (large network)`, we will run similar stress tests on a much larger network consisting of thousands of nodes.\n"
   ]
  },
  {
   "cell_type": "markdown",
   "metadata": {
    "application/vnd.databricks.v1+cell": {
     "cellMetadata": {
      "byteLimit": 2048000,
      "rowLimit": 10000
     },
     "inputWidgets": {},
     "nuid": "790bfb22-8df6-4572-94ce-43b2a5c4e7f9",
     "showTitle": false,
     "tableResultSettingsMap": {},
     "title": ""
    }
   },
   "source": [
    "&copy; 2025 Databricks, Inc. All rights reserved. The source in this notebook is provided subject to the Databricks License [https://databricks.com/db-license-source].  All included or referenced third party libraries are subject to the licenses set forth below.\n",
    "\n",
    "| library                                | description             | license    | source                                              |\n",
    "|----------------------------------------|-------------------------|------------|-----------------------------------------------------|\n",
    "| pyomo | An object-oriented algebraic modeling language in Python for structured optimization problems | BSD-3 | https://pypi.org/project/pyomo/\n",
    "| highspy | Linear optimization solver (HiGHS) | MIT | https://pypi.org/project/highspy/\n",
    "| ray | Framework for scaling AI/Python applications | Apache 2.0 | https://github.com/ray-project/ray"
   ]
  }
 ],
 "metadata": {
  "application/vnd.databricks.v1+notebook": {
   "computePreferences": null,
   "dashboards": [],
   "environmentMetadata": null,
   "inputWidgetPreferences": null,
   "language": "python",
   "notebookMetadata": {
    "pythonIndentUnit": 2
   },
   "notebookName": "02_stress_testing (small network)",
   "widgets": {}
  },
  "language_info": {
   "name": "python"
  }
 },
 "nbformat": 4,
 "nbformat_minor": 0
}
